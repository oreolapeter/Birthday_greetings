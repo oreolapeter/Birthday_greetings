{
 "cells": [
  {
   "cell_type": "code",
   "execution_count": 69,
   "metadata": {},
   "outputs": [],
   "source": [
    "month = ('January','February','March','April','May','June','July','August','September','October','November','December')"
   ]
  },
  {
   "cell_type": "code",
   "execution_count": 146,
   "metadata": {},
   "outputs": [],
   "source": [
    "import random"
   ]
  },
  {
   "cell_type": "code",
   "execution_count": 135,
   "metadata": {},
   "outputs": [
    {
     "name": "stdout",
     "output_type": "stream",
     "text": [
      "[2024, 9, 21, 6, 41, 18, 5, 265, 0]\n"
     ]
    },
    {
     "data": {
      "text/plain": [
       "['21', 'September']"
      ]
     },
     "execution_count": 135,
     "metadata": {},
     "output_type": "execute_result"
    }
   ],
   "source": [
    "import time as t\n",
    "\n",
    "time_list = []\n",
    "for item in t.localtime():\n",
    "    time_list.append(item)\n",
    "print(time_list)\n",
    "\n",
    "today = [str(time_list[2]),month[time_list[1]-1]]\n",
    "\n",
    "today\n"
   ]
  },
  {
   "cell_type": "code",
   "execution_count": 70,
   "metadata": {},
   "outputs": [
    {
     "data": {
      "text/plain": [
       "'September'"
      ]
     },
     "execution_count": 70,
     "metadata": {},
     "output_type": "execute_result"
    }
   ],
   "source": []
  },
  {
   "cell_type": "code",
   "execution_count": 97,
   "metadata": {},
   "outputs": [
    {
     "name": "stdout",
     "output_type": "stream",
     "text": [
      "[{'Full_name': 'Lekan', 'birthday': ['12', 'September'], 'gender': 'male'}, {'Full_name': 'tolu', 'birthday': ['21', 'September'], 'gender': 'female'}, {'Full_name': 'Kiitan', 'birthday': ['01', 'February'], 'gender': 'male'}, {'Full_name': 'Tomi', 'birthday': ['21', 'September'], 'gender': 'female'}]\n"
     ]
    }
   ],
   "source": [
    "\n",
    "response = input('thank you for your interest, please type yes to continue')\n",
    "database = []\n",
    "while response == 'yes':\n",
    "    name = input('What is your full name: ')\n",
    "    Day_month_of_birth = input('What is your Day and Month of Birth DDMM: ')\n",
    "    gender = input('What is your gender: ')\n",
    "    \n",
    "    dayOB = Day_month_of_birth[0:2]\n",
    "    Months = int(Day_month_of_birth[2:])-1\n",
    "\n",
    "    monthOB = month[Months]\n",
    "    birthday = dayOB\n",
    "    birthmonth = monthOB\n",
    "    bio =  {'Full_name': name, 'birthday':[dayOB,monthOB],'gender':gender,'birthday_bio':[name,bio['birthday']] }\n",
    "    database.append(bio)\n",
    "    \n",
    "\n",
    "\n",
    "    response = input('thank you for your responses,please type no to terminate otherwise type yes to continue')\n",
    "print(database)"
   ]
  },
  {
   "cell_type": "code",
   "execution_count": 119,
   "metadata": {},
   "outputs": [
    {
     "data": {
      "text/plain": [
       "{'Full_name': 'Tomi',\n",
       " 'birthday': ['21', 'September'],\n",
       " 'gender': 'female',\n",
       " 'birthday_bio': ['Tomi', ['21', 'September']]}"
      ]
     },
     "execution_count": 119,
     "metadata": {},
     "output_type": "execute_result"
    }
   ],
   "source": [
    "bio =  {'Full_name': name, 'birthday':[dayOB,monthOB],'gender':gender,'birthday_bio':[name,bio['birthday']] }\n",
    "bio"
   ]
  },
  {
   "cell_type": "code",
   "execution_count": 120,
   "metadata": {},
   "outputs": [
    {
     "name": "stdout",
     "output_type": "stream",
     "text": [
      "[{'Full_name': 'Lekan', 'birthday': ['12', 'September'], 'gender': 'male'}, {'Full_name': 'tolu', 'birthday': ['21', 'September'], 'gender': 'female'}, {'Full_name': 'Kiitan', 'birthday': ['01', 'February'], 'gender': 'male'}, {'Full_name': 'Tomi', 'birthday': ['21', 'September'], 'gender': 'female'}]\n"
     ]
    }
   ],
   "source": [
    "print(database)"
   ]
  },
  {
   "cell_type": "code",
   "execution_count": 142,
   "metadata": {},
   "outputs": [
    {
     "data": {
      "text/plain": [
       "[{'Full_name': 'tolu', 'birthday': ['21', 'September'], 'gender': 'female'},\n",
       " {'Full_name': 'Tomi', 'birthday': ['21', 'September'], 'gender': 'female'}]"
      ]
     },
     "execution_count": 142,
     "metadata": {},
     "output_type": "execute_result"
    }
   ],
   "source": [
    "the_birthay = []\n",
    "\n",
    "for bio in database:\n",
    "    if bio['birthday'] == today:\n",
    "        the_birthay.append(bio)\n",
    "the_birthay"
   ]
  },
  {
   "cell_type": "code",
   "execution_count": 145,
   "metadata": {},
   "outputs": [
    {
     "data": {
      "text/plain": [
       "['tolu', 'Tomi']"
      ]
     },
     "execution_count": 145,
     "metadata": {},
     "output_type": "execute_result"
    }
   ],
   "source": [
    "the_name = []\n",
    "\n",
    "for the_list in the_birthay:\n",
    "    the_name.append(the_list['Full_name'])\n",
    "the_name"
   ]
  },
  {
   "cell_type": "code",
   "execution_count": 1,
   "metadata": {},
   "outputs": [
    {
     "ename": "NameError",
     "evalue": "name 'the_name' is not defined",
     "output_type": "error",
     "traceback": [
      "\u001b[1;31m---------------------------------------------------------------------------\u001b[0m",
      "\u001b[1;31mNameError\u001b[0m                                 Traceback (most recent call last)",
      "Cell \u001b[1;32mIn[1], line 1\u001b[0m\n\u001b[1;32m----> 1\u001b[0m \u001b[38;5;28;01mfor\u001b[39;00m name \u001b[38;5;129;01min\u001b[39;00m \u001b[43mthe_name\u001b[49m:\n\u001b[0;32m      2\u001b[0m     msg_list \u001b[38;5;241m=\u001b[39m[\n\u001b[0;32m      3\u001b[0m     \u001b[38;5;124m\"\u001b[39m\u001b[38;5;124mWishing you a year filled with adventure, joy, and endless possibilities. Happy Birthday!\u001b[39m\u001b[38;5;124m\"\u001b[39m,\n\u001b[0;32m      4\u001b[0m     \u001b[38;5;124m\"\u001b[39m\u001b[38;5;124mMay your birthday be as sweet and beautiful as the joy you bring to everyone around you.\u001b[39m\u001b[38;5;124m\"\u001b[39m,\n\u001b[1;32m   (...)\u001b[0m\n\u001b[0;32m     22\u001b[0m     \u001b[38;5;124m\"\u001b[39m\u001b[38;5;124mWishing you the happiest of birthdays! May this year be filled with laughter, love, and everything you desire.\u001b[39m\u001b[38;5;124m\"\u001b[39m\n\u001b[0;32m     23\u001b[0m ]\n\u001b[0;32m     25\u001b[0m     msg_index \u001b[38;5;241m=\u001b[39m random\u001b[38;5;241m.\u001b[39mrandint(\u001b[38;5;241m0\u001b[39m,\u001b[38;5;28mlen\u001b[39m(msg_list)\u001b[38;5;241m-\u001b[39m\u001b[38;5;241m1\u001b[39m)\n",
      "\u001b[1;31mNameError\u001b[0m: name 'the_name' is not defined"
     ]
    }
   ],
   "source": [
    "for name in the_name:\n",
    "    msg_list =[\n",
    "    \"Wishing you a year filled with adventure, joy, and endless possibilities. Happy Birthday!\",\n",
    "    \"May your birthday be as sweet and beautiful as the joy you bring to everyone around you.\",\n",
    "    \"Cheers to another year of laughter, love, and all the things that make life worth living! Happy Birthday!\",\n",
    "    \"On your special day, may happiness surround you like sunshine and love fill your heart to the brim.\",\n",
    "    \"To an amazing person who deserves nothing but the best—here’s to celebrating you today and always!\",\n",
    "    \"May this year bring you success, peace, and all the good vibes you need. Happy Birthday!\",\n",
    "    \"Sending you love, laughter, and warm wishes for a fantastic birthday filled with unforgettable moments.\",\n",
    "    \"Wishing you a day filled with smiles, fun, and every happiness your heart desires. Have a fabulous birthday!\",\n",
    "    \"Your birthday is a reminder of how much joy you bring to the world. May today be as wonderful as you are!\",\n",
    "    \"Happy Birthday! May every moment of your special day be filled with joy, laughter, and cherished memories.\",\n",
    "    \"Another trip around the sun and you're shining brighter than ever. Here's to a magical year ahead!\",\n",
    "    \"On your special day, may you be surrounded by love, laughter, and endless happiness. Happy Birthday!\",\n",
    "    \"May this year bring you even closer to your dreams. Wishing you a truly spectacular birthday celebration!\",\n",
    "    \"To someone who makes the world a brighter place, happy birthday! May your day be full of love and joy.\",\n",
    "    \"Your energy and spirit inspire everyone around you. Here's to another year of greatness! Happy Birthday!\",\n",
    "    \"Hope your birthday is filled with as much fun and laughter as you bring to those around you. Cheers to you!\",\n",
    "    \"Wishing you a birthday as spectacular and unforgettable as you are. Have an amazing year ahead!\",\n",
    "    \"On your special day, I hope all your dreams come true and the year ahead is filled with happiness and success.\",\n",
    "    \"Here’s to another year of making memories, growing stronger, and achieving greatness. Happy Birthday!\",\n",
    "    \"Wishing you the happiest of birthdays! May this year be filled with laughter, love, and everything you desire.\"\n",
    "]\n",
    "\n",
    "    msg_index = random.randint(0,len(msg_list)-1)\n",
    "    random_msg = msg_list[msg_index]\n",
    "    print(name,',',random_msg,'. From McSolomon Nig limited')"
   ]
  }
 ],
 "metadata": {
  "kernelspec": {
   "display_name": "Python 3",
   "language": "python",
   "name": "python3"
  },
  "language_info": {
   "codemirror_mode": {
    "name": "ipython",
    "version": 3
   },
   "file_extension": ".py",
   "mimetype": "text/x-python",
   "name": "python",
   "nbconvert_exporter": "python",
   "pygments_lexer": "ipython3",
   "version": "3.11.9"
  }
 },
 "nbformat": 4,
 "nbformat_minor": 2
}
